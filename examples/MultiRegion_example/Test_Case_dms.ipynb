{
 "cells": [
  {
   "cell_type": "code",
   "execution_count": 1,
   "metadata": {},
   "outputs": [],
   "source": [
    "import openmmtools\n",
    "from simtk.openmm import app\n",
    "import simtk.openmm as mm\n",
    "from simtk import unit\n",
    "from sys import stdout\n",
    "import numpy as np\n",
    "from importlib import reload"
   ]
  },
  {
   "cell_type": "code",
   "execution_count": 2,
   "metadata": {},
   "outputs": [],
   "source": [
    "pdb = app.PDBFile('liquid.pdb')\n",
    "forcefield = app.ForceField('./dms.xml')\n",
    "\n",
    "system = forcefield.createSystem(pdb.topology, nonbondedMethod=app.PME, \n",
    "    nonbondedCutoff=1.0*unit.nanometers, rigidWater=True, \n",
    "    ewaldErrorTolerance=0.0005)\n",
    "\n",
    "integrator = mm.LangevinIntegrator(300*unit.kelvin, 1.0/unit.picoseconds, \n",
    "    1.0*unit.femtoseconds)\n",
    "\n",
    "system.addForce(mm.MonteCarloBarostat(1*unit.atmospheres, 300*unit.kelvin, 25))\n",
    "\n",
    "platform = mm.Platform.getPlatformByName('CUDA')\n",
    "properties = {'CudaPrecision': 'mixed'}"
   ]
  },
  {
   "cell_type": "code",
   "execution_count": 3,
   "metadata": {
    "scrolled": false
   },
   "outputs": [
    {
     "name": "stdout",
     "output_type": "stream",
     "text": [
      "Using 3 alchemical regions\n"
     ]
    }
   ],
   "source": [
    "reload(openmmtools.alchemy)\n",
    "factory = openmmtools.alchemy.AbsoluteAlchemicalFactory(consistent_exceptions=False, split_alchemical_forces = True, alchemical_pme_treatment = 'exact')\n",
    "reference_system = system\n",
    "\n",
    "alchemical_region_0 = openmmtools.alchemy.AlchemicalRegion(alchemical_atoms = [0,1,2,3,4,5,6,7,8], alchemical_angles = [6], alchemical_torsions = [0,1,2,3,4,5], name='zero')\n",
    "alchemical_region_1 = openmmtools.alchemy.AlchemicalRegion(alchemical_atoms = [9,10,11,12,13,14,15,16,17], alchemical_torsions = [6,7,8,9,10,11], name='one')\n",
    "alchemical_region_2 = openmmtools.alchemy.AlchemicalRegion(alchemical_atoms = [18,19,20,21,22,23,24,25,26], alchemical_angles = [32],  name='two')\n",
    "\n",
    "alchemical_system_in = factory.create_alchemical_system(reference_system, alchemical_regions = [alchemical_region_0, alchemical_region_1, alchemical_region_2])\n",
    "\n",
    "alchemical_state_zero = openmmtools.alchemy.AlchemicalState.from_system(alchemical_system_in, region_name = 'zero')\n",
    "alchemical_state_one = openmmtools.alchemy.AlchemicalState.from_system(alchemical_system_in, region_name = 'one')\n",
    "alchemical_state_two = openmmtools.alchemy.AlchemicalState.from_system(alchemical_system_in, region_name = 'two')"
   ]
  },
  {
   "cell_type": "code",
   "execution_count": 4,
   "metadata": {
    "scrolled": true
   },
   "outputs": [],
   "source": [
    "TS = openmmtools.states.ThermodynamicState(alchemical_system_in, temperature=300*unit.kelvin, pressure=1*unit.bar)\n",
    "composable_states = [alchemical_state_zero, alchemical_state_one, alchemical_state_two]\n",
    "compound_state = openmmtools.states.CompoundThermodynamicState(\n",
    "            thermodynamic_state=TS, composable_states=composable_states)"
   ]
  },
  {
   "cell_type": "code",
   "execution_count": 5,
   "metadata": {
    "scrolled": true
   },
   "outputs": [],
   "source": [
    "reload(openmmtools.alchemy)\n",
    "\n",
    "compound_state._composable_states[0].lambda_sterics_zero = 1.0\n",
    "compound_state._composable_states[0].lambda_electrostatics_zero = 1.0\n",
    "\n",
    "compound_state._composable_states[1].lambda_sterics_one = 0.0\n",
    "compound_state._composable_states[1].lambda_electrostatics_one = 0.0\n",
    "\n",
    "compound_state._composable_states[2].lambda_sterics_two = 0.0\n",
    "compound_state._composable_states[2].lambda_electrostatics_two = 0.0\n",
    "\n",
    "compound_state._composable_states[0].lambda_torsions_zero = 0.0\n",
    "compound_state._composable_states[1].lambda_torsions_one = 0.0\n",
    "\n",
    "compound_state._composable_states[0].lambda_angles_zero = 0.0\n",
    "compound_state._composable_states[2].lambda_angles_two = 0.0\n",
    "\n",
    "sys = compound_state.get_system()\n",
    "file = open('DEBUG_system.xml','w')\n",
    "file.write(mm.XmlSerializer.serialize(sys))\n",
    "file.close()\n",
    "\n",
    "simulation = app.Simulation(pdb.topology, alchemical_system_in, integrator, platform, \n",
    "    properties)\n",
    "compound_state.apply_to_context(simulation.context)"
   ]
  },
  {
   "cell_type": "code",
   "execution_count": 6,
   "metadata": {},
   "outputs": [
    {
     "name": "stdout",
     "output_type": "stream",
     "text": [
      "Minimizing...\n",
      "Equilibrating...\n",
      "Running Production...\n",
      "#\"Progress (%)\"\t\"Step\"\t\"Potential Energy (kJ/mole)\"\t\"Temperature (K)\"\t\"Speed (ns/day)\"\t\"Time Remaining\"\n",
      "2.0%\t1000\t4507.257027256577\t354.0954292503473\t0\t--\n",
      "4.0%\t2000\t3946.0609561432284\t323.2921676835446\t102\t0:40\n",
      "6.0%\t3000\t3557.355271076406\t311.3061835302581\t103\t0:39\n",
      "8.0%\t4000\t3023.3132342036106\t309.5627642656892\t104\t0:38\n",
      "10.0%\t5000\t3196.5257949976576\t302.7229247105115\t104\t0:37\n",
      "12.0%\t6000\t3076.934498643297\t305.9884552595506\t102\t0:37\n",
      "14.0%\t7000\t3117.868146181868\t302.3120448499768\t102\t0:36\n",
      "16.0%\t8000\t3126.9064519444864\t302.0908671745753\t102\t0:35\n",
      "18.0%\t9000\t3273.79154534965\t295.8371652846034\t103\t0:34\n",
      "20.0%\t10000\t3137.962350372127\t302.4107052490276\t103\t0:33\n",
      "22.0%\t11000\t3241.78179343794\t302.70425896123993\t103\t0:32\n",
      "24.0%\t12000\t3059.347999671173\t303.6568480344614\t103\t0:31\n",
      "26.0%\t13000\t3357.0250568595357\t296.38142270158266\t103\t0:30\n",
      "28.0%\t14000\t3047.0753923448365\t305.30800427463697\t103\t0:30\n",
      "30.0%\t15000\t3005.46708509358\t296.86099320669695\t103\t0:29\n",
      "32.0%\t16000\t3117.0051631715187\t304.43146437922144\t103\t0:28\n",
      "34.0%\t17000\t3215.533403371629\t298.5427421324217\t103\t0:27\n",
      "36.0%\t18000\t3415.489248345333\t293.1454722715355\t103\t0:26\n",
      "38.0%\t19000\t3148.06951052328\t299.32397013793263\t103\t0:26\n",
      "40.0%\t20000\t3090.4307275347737\t307.56559085774546\t103\t0:25\n"
     ]
    },
    {
     "ename": "KeyboardInterrupt",
     "evalue": "",
     "output_type": "error",
     "traceback": [
      "\u001b[0;31m---------------------------------------------------------------------------\u001b[0m",
      "\u001b[0;31mKeyboardInterrupt\u001b[0m                         Traceback (most recent call last)",
      "\u001b[0;32m<ipython-input-6-5b36ae28ca9e>\u001b[0m in \u001b[0;36m<module>\u001b[0;34m()\u001b[0m\n\u001b[1;32m     16\u001b[0m \u001b[0;34m\u001b[0m\u001b[0m\n\u001b[1;32m     17\u001b[0m \u001b[0mprint\u001b[0m\u001b[0;34m(\u001b[0m\u001b[0;34m'Running Production...'\u001b[0m\u001b[0;34m)\u001b[0m\u001b[0;34m\u001b[0m\u001b[0m\n\u001b[0;32m---> 18\u001b[0;31m \u001b[0msimulation\u001b[0m\u001b[0;34m.\u001b[0m\u001b[0mstep\u001b[0m\u001b[0;34m(\u001b[0m\u001b[0;36m50000\u001b[0m\u001b[0;34m)\u001b[0m\u001b[0;34m\u001b[0m\u001b[0m\n\u001b[0m\u001b[1;32m     19\u001b[0m \u001b[0mprint\u001b[0m\u001b[0;34m(\u001b[0m\u001b[0;34m'Done!'\u001b[0m\u001b[0;34m)\u001b[0m\u001b[0;34m\u001b[0m\u001b[0m\n",
      "\u001b[0;32m~/NY/vanilla/py/envs/Multi/lib/python3.6/site-packages/simtk/openmm/app/simulation.py\u001b[0m in \u001b[0;36mstep\u001b[0;34m(self, steps)\u001b[0m\n\u001b[1;32m    130\u001b[0m     \u001b[0;32mdef\u001b[0m \u001b[0mstep\u001b[0m\u001b[0;34m(\u001b[0m\u001b[0mself\u001b[0m\u001b[0;34m,\u001b[0m \u001b[0msteps\u001b[0m\u001b[0;34m)\u001b[0m\u001b[0;34m:\u001b[0m\u001b[0;34m\u001b[0m\u001b[0m\n\u001b[1;32m    131\u001b[0m         \u001b[0;34m\"\"\"Advance the simulation by integrating a specified number of time steps.\"\"\"\u001b[0m\u001b[0;34m\u001b[0m\u001b[0m\n\u001b[0;32m--> 132\u001b[0;31m         \u001b[0mself\u001b[0m\u001b[0;34m.\u001b[0m\u001b[0m_simulate\u001b[0m\u001b[0;34m(\u001b[0m\u001b[0mendStep\u001b[0m\u001b[0;34m=\u001b[0m\u001b[0mself\u001b[0m\u001b[0;34m.\u001b[0m\u001b[0mcurrentStep\u001b[0m\u001b[0;34m+\u001b[0m\u001b[0msteps\u001b[0m\u001b[0;34m)\u001b[0m\u001b[0;34m\u001b[0m\u001b[0m\n\u001b[0m\u001b[1;32m    133\u001b[0m \u001b[0;34m\u001b[0m\u001b[0m\n\u001b[1;32m    134\u001b[0m     \u001b[0;32mdef\u001b[0m \u001b[0mrunForClockTime\u001b[0m\u001b[0;34m(\u001b[0m\u001b[0mself\u001b[0m\u001b[0;34m,\u001b[0m \u001b[0mtime\u001b[0m\u001b[0;34m,\u001b[0m \u001b[0mcheckpointFile\u001b[0m\u001b[0;34m=\u001b[0m\u001b[0;32mNone\u001b[0m\u001b[0;34m,\u001b[0m \u001b[0mstateFile\u001b[0m\u001b[0;34m=\u001b[0m\u001b[0;32mNone\u001b[0m\u001b[0;34m,\u001b[0m \u001b[0mcheckpointInterval\u001b[0m\u001b[0;34m=\u001b[0m\u001b[0;32mNone\u001b[0m\u001b[0;34m)\u001b[0m\u001b[0;34m:\u001b[0m\u001b[0;34m\u001b[0m\u001b[0m\n",
      "\u001b[0;32m~/NY/vanilla/py/envs/Multi/lib/python3.6/site-packages/simtk/openmm/app/simulation.py\u001b[0m in \u001b[0;36m_simulate\u001b[0;34m(self, endStep, endTime)\u001b[0m\n\u001b[1;32m    192\u001b[0m             \u001b[0mstepsToGo\u001b[0m \u001b[0;34m=\u001b[0m \u001b[0mnextSteps\u001b[0m\u001b[0;34m\u001b[0m\u001b[0m\n\u001b[1;32m    193\u001b[0m             \u001b[0;32mwhile\u001b[0m \u001b[0mstepsToGo\u001b[0m \u001b[0;34m>\u001b[0m \u001b[0;36m10\u001b[0m\u001b[0;34m:\u001b[0m\u001b[0;34m\u001b[0m\u001b[0m\n\u001b[0;32m--> 194\u001b[0;31m                 \u001b[0mself\u001b[0m\u001b[0;34m.\u001b[0m\u001b[0mintegrator\u001b[0m\u001b[0;34m.\u001b[0m\u001b[0mstep\u001b[0m\u001b[0;34m(\u001b[0m\u001b[0;36m10\u001b[0m\u001b[0;34m)\u001b[0m \u001b[0;31m# Only take 10 steps at a time, to give Python more chances to respond to a control-c.\u001b[0m\u001b[0;34m\u001b[0m\u001b[0m\n\u001b[0m\u001b[1;32m    195\u001b[0m                 \u001b[0mstepsToGo\u001b[0m \u001b[0;34m-=\u001b[0m \u001b[0;36m10\u001b[0m\u001b[0;34m\u001b[0m\u001b[0m\n\u001b[1;32m    196\u001b[0m                 \u001b[0;32mif\u001b[0m \u001b[0mendTime\u001b[0m \u001b[0;32mis\u001b[0m \u001b[0;32mnot\u001b[0m \u001b[0;32mNone\u001b[0m \u001b[0;32mand\u001b[0m \u001b[0mdatetime\u001b[0m\u001b[0;34m.\u001b[0m\u001b[0mnow\u001b[0m\u001b[0;34m(\u001b[0m\u001b[0;34m)\u001b[0m \u001b[0;34m>=\u001b[0m \u001b[0mendTime\u001b[0m\u001b[0;34m:\u001b[0m\u001b[0;34m\u001b[0m\u001b[0m\n",
      "\u001b[0;32m~/NY/vanilla/py/envs/Multi/lib/python3.6/site-packages/simtk/openmm/openmm.py\u001b[0m in \u001b[0;36mstep\u001b[0;34m(self, steps)\u001b[0m\n\u001b[1;32m  17084\u001b[0m             \u001b[0mthe\u001b[0m \u001b[0mnumber\u001b[0m \u001b[0mof\u001b[0m \u001b[0mtime\u001b[0m \u001b[0msteps\u001b[0m \u001b[0mto\u001b[0m \u001b[0mtake\u001b[0m\u001b[0;34m\u001b[0m\u001b[0m\n\u001b[1;32m  17085\u001b[0m         \"\"\"\n\u001b[0;32m> 17086\u001b[0;31m         \u001b[0;32mreturn\u001b[0m \u001b[0m_openmm\u001b[0m\u001b[0;34m.\u001b[0m\u001b[0mLangevinIntegrator_step\u001b[0m\u001b[0;34m(\u001b[0m\u001b[0mself\u001b[0m\u001b[0;34m,\u001b[0m \u001b[0msteps\u001b[0m\u001b[0;34m)\u001b[0m\u001b[0;34m\u001b[0m\u001b[0m\n\u001b[0m\u001b[1;32m  17087\u001b[0m \u001b[0;34m\u001b[0m\u001b[0m\n\u001b[1;32m  17088\u001b[0m \u001b[0;34m\u001b[0m\u001b[0m\n",
      "\u001b[0;31mKeyboardInterrupt\u001b[0m: "
     ]
    }
   ],
   "source": [
    "simulation.context.setPositions(pdb.positions)\n",
    "'''\n",
    "for param in simulation.context.getParameters():\n",
    "    print(param)\n",
    "    print(simulation.context.getParameter(param))\n",
    "'''\n",
    "print('Minimizing...')\n",
    "#simulation.minimizeEnergy()\n",
    "simulation.context.setVelocitiesToTemperature(300*unit.kelvin)\n",
    "print('Equilibrating...')\n",
    "simulation.step(100)\n",
    "simulation.reporters.append(app.DCDReporter('trajectoryM.dcd', 1000))\n",
    "simulation.reporters.append(app.StateDataReporter(stdout, 1000, step=True, \n",
    "    potentialEnergy=True, temperature=True, progress=True, remainingTime=True, \n",
    "    speed=True, totalSteps=50000, separator='\\t'))\n",
    "\n",
    "print('Running Production...')\n",
    "simulation.step(50000)\n",
    "print('Done!')"
   ]
  },
  {
   "cell_type": "code",
   "execution_count": null,
   "metadata": {},
   "outputs": [],
   "source": []
  }
 ],
 "metadata": {
  "kernelspec": {
   "display_name": "Python 3",
   "language": "python",
   "name": "python3"
  },
  "language_info": {
   "codemirror_mode": {
    "name": "ipython",
    "version": 3
   },
   "file_extension": ".py",
   "mimetype": "text/x-python",
   "name": "python",
   "nbconvert_exporter": "python",
   "pygments_lexer": "ipython3",
   "version": "3.6.5"
  }
 },
 "nbformat": 4,
 "nbformat_minor": 2
}
